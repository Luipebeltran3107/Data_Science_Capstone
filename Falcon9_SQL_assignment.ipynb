{
  "nbformat": 4,
  "nbformat_minor": 0,
  "metadata": {
    "colab": {
      "provenance": []
    },
    "kernelspec": {
      "name": "python3",
      "display_name": "Python 3"
    },
    "language_info": {
      "name": "python"
    }
  },
  "cells": [
    {
      "cell_type": "markdown",
      "source": [
        "# Overview of the DataSet\n",
        "\n",
        "SpaceX has gained worldwide attention for a series of historic milestones.\n",
        "\n",
        "It is the only private company ever to return a spacecraft from low-earth orbit, which it first accomplished in December 2010.\n",
        "SpaceX advertises Falcon 9 rocket launches on its website with a cost of 62 million dollars wheras other providers cost upward of 165 million dollars each, much of the savings is because Space X can reuse the first stage.\n",
        "\n",
        "\n",
        "Therefore if we can determine if the first stage will land, we can determine the cost of a launch.\n",
        "\n",
        "This information can be used if an alternate company wants to bid against SpaceX for a rocket launch.\n",
        "\n",
        "This dataset includes a record for each payload carried during a SpaceX mission into outer space.\n"
      ],
      "metadata": {
        "id": "kGDcI60uChcA"
      }
    },
    {
      "cell_type": "code",
      "execution_count": null,
      "metadata": {
        "colab": {
          "base_uri": "https://localhost:8080/"
        },
        "id": "hjuGWMAzCboB",
        "outputId": "5aef6c8f-e15c-41c8-e720-81e0b3315f2a"
      },
      "outputs": [
        {
          "output_type": "stream",
          "name": "stdout",
          "text": [
            "Requirement already satisfied: ipython-sql in /usr/local/lib/python3.11/dist-packages (0.5.0)\n",
            "Requirement already satisfied: prettytable in /usr/local/lib/python3.11/dist-packages (from ipython-sql) (3.16.0)\n",
            "Requirement already satisfied: ipython in /usr/local/lib/python3.11/dist-packages (from ipython-sql) (7.34.0)\n",
            "Requirement already satisfied: sqlalchemy>=2.0 in /usr/local/lib/python3.11/dist-packages (from ipython-sql) (2.0.41)\n",
            "Requirement already satisfied: sqlparse in /usr/local/lib/python3.11/dist-packages (from ipython-sql) (0.5.3)\n",
            "Requirement already satisfied: six in /usr/local/lib/python3.11/dist-packages (from ipython-sql) (1.17.0)\n",
            "Requirement already satisfied: ipython-genutils in /usr/local/lib/python3.11/dist-packages (from ipython-sql) (0.2.0)\n",
            "Requirement already satisfied: greenlet>=1 in /usr/local/lib/python3.11/dist-packages (from sqlalchemy>=2.0->ipython-sql) (3.2.3)\n",
            "Requirement already satisfied: typing-extensions>=4.6.0 in /usr/local/lib/python3.11/dist-packages (from sqlalchemy>=2.0->ipython-sql) (4.14.1)\n",
            "Requirement already satisfied: setuptools>=18.5 in /usr/local/lib/python3.11/dist-packages (from ipython->ipython-sql) (75.2.0)\n",
            "Collecting jedi>=0.16 (from ipython->ipython-sql)\n",
            "  Downloading jedi-0.19.2-py2.py3-none-any.whl.metadata (22 kB)\n",
            "Requirement already satisfied: decorator in /usr/local/lib/python3.11/dist-packages (from ipython->ipython-sql) (4.4.2)\n",
            "Requirement already satisfied: pickleshare in /usr/local/lib/python3.11/dist-packages (from ipython->ipython-sql) (0.7.5)\n",
            "Requirement already satisfied: traitlets>=4.2 in /usr/local/lib/python3.11/dist-packages (from ipython->ipython-sql) (5.7.1)\n",
            "Requirement already satisfied: prompt-toolkit!=3.0.0,!=3.0.1,<3.1.0,>=2.0.0 in /usr/local/lib/python3.11/dist-packages (from ipython->ipython-sql) (3.0.51)\n",
            "Requirement already satisfied: pygments in /usr/local/lib/python3.11/dist-packages (from ipython->ipython-sql) (2.19.2)\n",
            "Requirement already satisfied: backcall in /usr/local/lib/python3.11/dist-packages (from ipython->ipython-sql) (0.2.0)\n",
            "Requirement already satisfied: matplotlib-inline in /usr/local/lib/python3.11/dist-packages (from ipython->ipython-sql) (0.1.7)\n",
            "Requirement already satisfied: pexpect>4.3 in /usr/local/lib/python3.11/dist-packages (from ipython->ipython-sql) (4.9.0)\n",
            "Requirement already satisfied: wcwidth in /usr/local/lib/python3.11/dist-packages (from prettytable->ipython-sql) (0.2.13)\n",
            "Requirement already satisfied: parso<0.9.0,>=0.8.4 in /usr/local/lib/python3.11/dist-packages (from jedi>=0.16->ipython->ipython-sql) (0.8.4)\n",
            "Requirement already satisfied: ptyprocess>=0.5 in /usr/local/lib/python3.11/dist-packages (from pexpect>4.3->ipython->ipython-sql) (0.7.0)\n",
            "Downloading jedi-0.19.2-py2.py3-none-any.whl (1.6 MB)\n",
            "\u001b[2K   \u001b[90m━━━━━━━━━━━━━━━━━━━━━━━━━━━━━━━━━━━━━━━━\u001b[0m \u001b[32m1.6/1.6 MB\u001b[0m \u001b[31m22.0 MB/s\u001b[0m eta \u001b[36m0:00:00\u001b[0m\n",
            "\u001b[?25hInstalling collected packages: jedi\n",
            "Successfully installed jedi-0.19.2\n",
            "Requirement already satisfied: ipython-sql in /usr/local/lib/python3.11/dist-packages (0.5.0)\n",
            "Requirement already satisfied: prettytable in /usr/local/lib/python3.11/dist-packages (3.16.0)\n",
            "Requirement already satisfied: ipython in /usr/local/lib/python3.11/dist-packages (from ipython-sql) (7.34.0)\n",
            "Requirement already satisfied: sqlalchemy>=2.0 in /usr/local/lib/python3.11/dist-packages (from ipython-sql) (2.0.41)\n",
            "Requirement already satisfied: sqlparse in /usr/local/lib/python3.11/dist-packages (from ipython-sql) (0.5.3)\n",
            "Requirement already satisfied: six in /usr/local/lib/python3.11/dist-packages (from ipython-sql) (1.17.0)\n",
            "Requirement already satisfied: ipython-genutils in /usr/local/lib/python3.11/dist-packages (from ipython-sql) (0.2.0)\n",
            "Requirement already satisfied: wcwidth in /usr/local/lib/python3.11/dist-packages (from prettytable) (0.2.13)\n",
            "Requirement already satisfied: greenlet>=1 in /usr/local/lib/python3.11/dist-packages (from sqlalchemy>=2.0->ipython-sql) (3.2.3)\n",
            "Requirement already satisfied: typing-extensions>=4.6.0 in /usr/local/lib/python3.11/dist-packages (from sqlalchemy>=2.0->ipython-sql) (4.14.1)\n",
            "Requirement already satisfied: setuptools>=18.5 in /usr/local/lib/python3.11/dist-packages (from ipython->ipython-sql) (75.2.0)\n",
            "Requirement already satisfied: jedi>=0.16 in /usr/local/lib/python3.11/dist-packages (from ipython->ipython-sql) (0.19.2)\n",
            "Requirement already satisfied: decorator in /usr/local/lib/python3.11/dist-packages (from ipython->ipython-sql) (4.4.2)\n",
            "Requirement already satisfied: pickleshare in /usr/local/lib/python3.11/dist-packages (from ipython->ipython-sql) (0.7.5)\n",
            "Requirement already satisfied: traitlets>=4.2 in /usr/local/lib/python3.11/dist-packages (from ipython->ipython-sql) (5.7.1)\n",
            "Requirement already satisfied: prompt-toolkit!=3.0.0,!=3.0.1,<3.1.0,>=2.0.0 in /usr/local/lib/python3.11/dist-packages (from ipython->ipython-sql) (3.0.51)\n",
            "Requirement already satisfied: pygments in /usr/local/lib/python3.11/dist-packages (from ipython->ipython-sql) (2.19.2)\n",
            "Requirement already satisfied: backcall in /usr/local/lib/python3.11/dist-packages (from ipython->ipython-sql) (0.2.0)\n",
            "Requirement already satisfied: matplotlib-inline in /usr/local/lib/python3.11/dist-packages (from ipython->ipython-sql) (0.1.7)\n",
            "Requirement already satisfied: pexpect>4.3 in /usr/local/lib/python3.11/dist-packages (from ipython->ipython-sql) (4.9.0)\n",
            "Requirement already satisfied: parso<0.9.0,>=0.8.4 in /usr/local/lib/python3.11/dist-packages (from jedi>=0.16->ipython->ipython-sql) (0.8.4)\n",
            "Requirement already satisfied: ptyprocess>=0.5 in /usr/local/lib/python3.11/dist-packages (from pexpect>4.3->ipython->ipython-sql) (0.7.0)\n"
          ]
        }
      ],
      "source": [
        "!pip install ipython-sql\n",
        "!pip install ipython-sql prettytable"
      ]
    },
    {
      "cell_type": "code",
      "source": [
        "%load_ext sql"
      ],
      "metadata": {
        "id": "aojSJV2IC0iv"
      },
      "execution_count": null,
      "outputs": []
    },
    {
      "cell_type": "code",
      "source": [
        "import csv, sqlite3\n",
        "import prettytable\n",
        "prettytable.DEFAULT = 'DEFAULT'\n",
        "\n",
        "con = sqlite3.connect(\"my_data1.db\")\n",
        "cur = con.cursor()"
      ],
      "metadata": {
        "id": "_y56JMVeC7_e"
      },
      "execution_count": null,
      "outputs": []
    },
    {
      "cell_type": "code",
      "source": [
        "!pip install -q pandas"
      ],
      "metadata": {
        "id": "UD0Qp0uhC-Nx"
      },
      "execution_count": null,
      "outputs": []
    },
    {
      "cell_type": "code",
      "source": [
        "%sql sqlite:///my_data1.db"
      ],
      "metadata": {
        "id": "2frBCUHPDBxo"
      },
      "execution_count": null,
      "outputs": []
    },
    {
      "cell_type": "code",
      "source": [
        "import pandas as pd\n",
        "df = pd.read_csv(\"https://cf-courses-data.s3.us.cloud-object-storage.appdomain.cloud/IBM-DS0321EN-SkillsNetwork/labs/module_2/data/Spacex.csv\")\n",
        "df.to_sql(\"SPACEXTBL\", con, if_exists='replace', index=False,method=\"multi\")"
      ],
      "metadata": {
        "colab": {
          "base_uri": "https://localhost:8080/"
        },
        "id": "tPRl359oDCJo",
        "outputId": "9515ad28-0ab0-403d-f6d1-35ea8d881f73"
      },
      "execution_count": null,
      "outputs": [
        {
          "output_type": "execute_result",
          "data": {
            "text/plain": [
              "101"
            ]
          },
          "metadata": {},
          "execution_count": 6
        }
      ]
    },
    {
      "cell_type": "code",
      "source": [
        "df"
      ],
      "metadata": {
        "colab": {
          "base_uri": "https://localhost:8080/",
          "height": 615
        },
        "id": "yxFHbNCjDEBT",
        "outputId": "33908669-31ab-4226-acf6-dc720ba0ecfd"
      },
      "execution_count": null,
      "outputs": [
        {
          "output_type": "execute_result",
          "data": {
            "text/plain": [
              "           Date Time (UTC) Booster_Version   Launch_Site  \\\n",
              "0    2010-06-04   18:45:00  F9 v1.0  B0003   CCAFS LC-40   \n",
              "1    2010-12-08   15:43:00  F9 v1.0  B0004   CCAFS LC-40   \n",
              "2    2012-05-22    7:44:00  F9 v1.0  B0005   CCAFS LC-40   \n",
              "3    2012-10-08    0:35:00  F9 v1.0  B0006   CCAFS LC-40   \n",
              "4    2013-03-01   15:10:00  F9 v1.0  B0007   CCAFS LC-40   \n",
              "..          ...        ...             ...           ...   \n",
              "96   2020-11-05   23:24:23    F9 B5B1062.1  CCAFS SLC-40   \n",
              "97   2020-11-16    0:27:00   F9 B5B1061.1     KSC LC-39A   \n",
              "98   2020-11-21   17:17:08    F9 B5B1063.1   VAFB SLC-4E   \n",
              "99   2020-11-25    2:13:00  F9 B5 B1049.7   CCAFS SLC-40   \n",
              "100  2020-12-06   16:17:08  F9 B5 B1058.4     KSC LC-39A   \n",
              "\n",
              "                                               Payload  PAYLOAD_MASS__KG_  \\\n",
              "0                 Dragon Spacecraft Qualification Unit                  0   \n",
              "1    Dragon demo flight C1, two CubeSats, barrel of...                  0   \n",
              "2                                Dragon demo flight C2                525   \n",
              "3                                         SpaceX CRS-1                500   \n",
              "4                                         SpaceX CRS-2                677   \n",
              "..                                                 ...                ...   \n",
              "96                                 GPS III-04 , Crew-1               4311   \n",
              "97                Crew-1, Sentinel-6 Michael Freilich               12500   \n",
              "98      Sentinel-6 Michael Freilich, Starlink 15 v1.0                1192   \n",
              "99                     Starlink 15 v1.0, SpaceX CRS-21              15600   \n",
              "100                                      SpaceX CRS-21               2972   \n",
              "\n",
              "         Orbit                      Customer Mission_Outcome  \\\n",
              "0          LEO                        SpaceX         Success   \n",
              "1    LEO (ISS)               NASA (COTS) NRO         Success   \n",
              "2    LEO (ISS)                   NASA (COTS)         Success   \n",
              "3    LEO (ISS)                    NASA (CRS)         Success   \n",
              "4    LEO (ISS)                    NASA (CRS)         Success   \n",
              "..         ...                           ...             ...   \n",
              "96         MEO                          USSF         Success   \n",
              "97   LEO (ISS)                    NASA (CCP)         Success   \n",
              "98         LEO  NASA / NOAA / ESA / EUMETSAT         Success   \n",
              "99         LEO                        SpaceX         Success   \n",
              "100  LEO (ISS)                    NASA (CRS)         Success   \n",
              "\n",
              "         Landing_Outcome  \n",
              "0    Failure (parachute)  \n",
              "1    Failure (parachute)  \n",
              "2             No attempt  \n",
              "3             No attempt  \n",
              "4             No attempt  \n",
              "..                   ...  \n",
              "96               Success  \n",
              "97               Success  \n",
              "98               Success  \n",
              "99               Success  \n",
              "100              Success  \n",
              "\n",
              "[101 rows x 10 columns]"
            ],
            "text/html": [
              "\n",
              "  <div id=\"df-cf5cefc9-4e15-4884-84c8-8d4324b4a884\" class=\"colab-df-container\">\n",
              "    <div>\n",
              "<style scoped>\n",
              "    .dataframe tbody tr th:only-of-type {\n",
              "        vertical-align: middle;\n",
              "    }\n",
              "\n",
              "    .dataframe tbody tr th {\n",
              "        vertical-align: top;\n",
              "    }\n",
              "\n",
              "    .dataframe thead th {\n",
              "        text-align: right;\n",
              "    }\n",
              "</style>\n",
              "<table border=\"1\" class=\"dataframe\">\n",
              "  <thead>\n",
              "    <tr style=\"text-align: right;\">\n",
              "      <th></th>\n",
              "      <th>Date</th>\n",
              "      <th>Time (UTC)</th>\n",
              "      <th>Booster_Version</th>\n",
              "      <th>Launch_Site</th>\n",
              "      <th>Payload</th>\n",
              "      <th>PAYLOAD_MASS__KG_</th>\n",
              "      <th>Orbit</th>\n",
              "      <th>Customer</th>\n",
              "      <th>Mission_Outcome</th>\n",
              "      <th>Landing_Outcome</th>\n",
              "    </tr>\n",
              "  </thead>\n",
              "  <tbody>\n",
              "    <tr>\n",
              "      <th>0</th>\n",
              "      <td>2010-06-04</td>\n",
              "      <td>18:45:00</td>\n",
              "      <td>F9 v1.0  B0003</td>\n",
              "      <td>CCAFS LC-40</td>\n",
              "      <td>Dragon Spacecraft Qualification Unit</td>\n",
              "      <td>0</td>\n",
              "      <td>LEO</td>\n",
              "      <td>SpaceX</td>\n",
              "      <td>Success</td>\n",
              "      <td>Failure (parachute)</td>\n",
              "    </tr>\n",
              "    <tr>\n",
              "      <th>1</th>\n",
              "      <td>2010-12-08</td>\n",
              "      <td>15:43:00</td>\n",
              "      <td>F9 v1.0  B0004</td>\n",
              "      <td>CCAFS LC-40</td>\n",
              "      <td>Dragon demo flight C1, two CubeSats, barrel of...</td>\n",
              "      <td>0</td>\n",
              "      <td>LEO (ISS)</td>\n",
              "      <td>NASA (COTS) NRO</td>\n",
              "      <td>Success</td>\n",
              "      <td>Failure (parachute)</td>\n",
              "    </tr>\n",
              "    <tr>\n",
              "      <th>2</th>\n",
              "      <td>2012-05-22</td>\n",
              "      <td>7:44:00</td>\n",
              "      <td>F9 v1.0  B0005</td>\n",
              "      <td>CCAFS LC-40</td>\n",
              "      <td>Dragon demo flight C2</td>\n",
              "      <td>525</td>\n",
              "      <td>LEO (ISS)</td>\n",
              "      <td>NASA (COTS)</td>\n",
              "      <td>Success</td>\n",
              "      <td>No attempt</td>\n",
              "    </tr>\n",
              "    <tr>\n",
              "      <th>3</th>\n",
              "      <td>2012-10-08</td>\n",
              "      <td>0:35:00</td>\n",
              "      <td>F9 v1.0  B0006</td>\n",
              "      <td>CCAFS LC-40</td>\n",
              "      <td>SpaceX CRS-1</td>\n",
              "      <td>500</td>\n",
              "      <td>LEO (ISS)</td>\n",
              "      <td>NASA (CRS)</td>\n",
              "      <td>Success</td>\n",
              "      <td>No attempt</td>\n",
              "    </tr>\n",
              "    <tr>\n",
              "      <th>4</th>\n",
              "      <td>2013-03-01</td>\n",
              "      <td>15:10:00</td>\n",
              "      <td>F9 v1.0  B0007</td>\n",
              "      <td>CCAFS LC-40</td>\n",
              "      <td>SpaceX CRS-2</td>\n",
              "      <td>677</td>\n",
              "      <td>LEO (ISS)</td>\n",
              "      <td>NASA (CRS)</td>\n",
              "      <td>Success</td>\n",
              "      <td>No attempt</td>\n",
              "    </tr>\n",
              "    <tr>\n",
              "      <th>...</th>\n",
              "      <td>...</td>\n",
              "      <td>...</td>\n",
              "      <td>...</td>\n",
              "      <td>...</td>\n",
              "      <td>...</td>\n",
              "      <td>...</td>\n",
              "      <td>...</td>\n",
              "      <td>...</td>\n",
              "      <td>...</td>\n",
              "      <td>...</td>\n",
              "    </tr>\n",
              "    <tr>\n",
              "      <th>96</th>\n",
              "      <td>2020-11-05</td>\n",
              "      <td>23:24:23</td>\n",
              "      <td>F9 B5B1062.1</td>\n",
              "      <td>CCAFS SLC-40</td>\n",
              "      <td>GPS III-04 , Crew-1</td>\n",
              "      <td>4311</td>\n",
              "      <td>MEO</td>\n",
              "      <td>USSF</td>\n",
              "      <td>Success</td>\n",
              "      <td>Success</td>\n",
              "    </tr>\n",
              "    <tr>\n",
              "      <th>97</th>\n",
              "      <td>2020-11-16</td>\n",
              "      <td>0:27:00</td>\n",
              "      <td>F9 B5B1061.1</td>\n",
              "      <td>KSC LC-39A</td>\n",
              "      <td>Crew-1, Sentinel-6 Michael Freilich</td>\n",
              "      <td>12500</td>\n",
              "      <td>LEO (ISS)</td>\n",
              "      <td>NASA (CCP)</td>\n",
              "      <td>Success</td>\n",
              "      <td>Success</td>\n",
              "    </tr>\n",
              "    <tr>\n",
              "      <th>98</th>\n",
              "      <td>2020-11-21</td>\n",
              "      <td>17:17:08</td>\n",
              "      <td>F9 B5B1063.1</td>\n",
              "      <td>VAFB SLC-4E</td>\n",
              "      <td>Sentinel-6 Michael Freilich, Starlink 15 v1.0</td>\n",
              "      <td>1192</td>\n",
              "      <td>LEO</td>\n",
              "      <td>NASA / NOAA / ESA / EUMETSAT</td>\n",
              "      <td>Success</td>\n",
              "      <td>Success</td>\n",
              "    </tr>\n",
              "    <tr>\n",
              "      <th>99</th>\n",
              "      <td>2020-11-25</td>\n",
              "      <td>2:13:00</td>\n",
              "      <td>F9 B5 B1049.7</td>\n",
              "      <td>CCAFS SLC-40</td>\n",
              "      <td>Starlink 15 v1.0, SpaceX CRS-21</td>\n",
              "      <td>15600</td>\n",
              "      <td>LEO</td>\n",
              "      <td>SpaceX</td>\n",
              "      <td>Success</td>\n",
              "      <td>Success</td>\n",
              "    </tr>\n",
              "    <tr>\n",
              "      <th>100</th>\n",
              "      <td>2020-12-06</td>\n",
              "      <td>16:17:08</td>\n",
              "      <td>F9 B5 B1058.4</td>\n",
              "      <td>KSC LC-39A</td>\n",
              "      <td>SpaceX CRS-21</td>\n",
              "      <td>2972</td>\n",
              "      <td>LEO (ISS)</td>\n",
              "      <td>NASA (CRS)</td>\n",
              "      <td>Success</td>\n",
              "      <td>Success</td>\n",
              "    </tr>\n",
              "  </tbody>\n",
              "</table>\n",
              "<p>101 rows × 10 columns</p>\n",
              "</div>\n",
              "    <div class=\"colab-df-buttons\">\n",
              "\n",
              "  <div class=\"colab-df-container\">\n",
              "    <button class=\"colab-df-convert\" onclick=\"convertToInteractive('df-cf5cefc9-4e15-4884-84c8-8d4324b4a884')\"\n",
              "            title=\"Convert this dataframe to an interactive table.\"\n",
              "            style=\"display:none;\">\n",
              "\n",
              "  <svg xmlns=\"http://www.w3.org/2000/svg\" height=\"24px\" viewBox=\"0 -960 960 960\">\n",
              "    <path d=\"M120-120v-720h720v720H120Zm60-500h600v-160H180v160Zm220 220h160v-160H400v160Zm0 220h160v-160H400v160ZM180-400h160v-160H180v160Zm440 0h160v-160H620v160ZM180-180h160v-160H180v160Zm440 0h160v-160H620v160Z\"/>\n",
              "  </svg>\n",
              "    </button>\n",
              "\n",
              "  <style>\n",
              "    .colab-df-container {\n",
              "      display:flex;\n",
              "      gap: 12px;\n",
              "    }\n",
              "\n",
              "    .colab-df-convert {\n",
              "      background-color: #E8F0FE;\n",
              "      border: none;\n",
              "      border-radius: 50%;\n",
              "      cursor: pointer;\n",
              "      display: none;\n",
              "      fill: #1967D2;\n",
              "      height: 32px;\n",
              "      padding: 0 0 0 0;\n",
              "      width: 32px;\n",
              "    }\n",
              "\n",
              "    .colab-df-convert:hover {\n",
              "      background-color: #E2EBFA;\n",
              "      box-shadow: 0px 1px 2px rgba(60, 64, 67, 0.3), 0px 1px 3px 1px rgba(60, 64, 67, 0.15);\n",
              "      fill: #174EA6;\n",
              "    }\n",
              "\n",
              "    .colab-df-buttons div {\n",
              "      margin-bottom: 4px;\n",
              "    }\n",
              "\n",
              "    [theme=dark] .colab-df-convert {\n",
              "      background-color: #3B4455;\n",
              "      fill: #D2E3FC;\n",
              "    }\n",
              "\n",
              "    [theme=dark] .colab-df-convert:hover {\n",
              "      background-color: #434B5C;\n",
              "      box-shadow: 0px 1px 3px 1px rgba(0, 0, 0, 0.15);\n",
              "      filter: drop-shadow(0px 1px 2px rgba(0, 0, 0, 0.3));\n",
              "      fill: #FFFFFF;\n",
              "    }\n",
              "  </style>\n",
              "\n",
              "    <script>\n",
              "      const buttonEl =\n",
              "        document.querySelector('#df-cf5cefc9-4e15-4884-84c8-8d4324b4a884 button.colab-df-convert');\n",
              "      buttonEl.style.display =\n",
              "        google.colab.kernel.accessAllowed ? 'block' : 'none';\n",
              "\n",
              "      async function convertToInteractive(key) {\n",
              "        const element = document.querySelector('#df-cf5cefc9-4e15-4884-84c8-8d4324b4a884');\n",
              "        const dataTable =\n",
              "          await google.colab.kernel.invokeFunction('convertToInteractive',\n",
              "                                                    [key], {});\n",
              "        if (!dataTable) return;\n",
              "\n",
              "        const docLinkHtml = 'Like what you see? Visit the ' +\n",
              "          '<a target=\"_blank\" href=https://colab.research.google.com/notebooks/data_table.ipynb>data table notebook</a>'\n",
              "          + ' to learn more about interactive tables.';\n",
              "        element.innerHTML = '';\n",
              "        dataTable['output_type'] = 'display_data';\n",
              "        await google.colab.output.renderOutput(dataTable, element);\n",
              "        const docLink = document.createElement('div');\n",
              "        docLink.innerHTML = docLinkHtml;\n",
              "        element.appendChild(docLink);\n",
              "      }\n",
              "    </script>\n",
              "  </div>\n",
              "\n",
              "\n",
              "    <div id=\"df-b0d060da-fba4-41ef-9f90-d5ec05056e13\">\n",
              "      <button class=\"colab-df-quickchart\" onclick=\"quickchart('df-b0d060da-fba4-41ef-9f90-d5ec05056e13')\"\n",
              "                title=\"Suggest charts\"\n",
              "                style=\"display:none;\">\n",
              "\n",
              "<svg xmlns=\"http://www.w3.org/2000/svg\" height=\"24px\"viewBox=\"0 0 24 24\"\n",
              "     width=\"24px\">\n",
              "    <g>\n",
              "        <path d=\"M19 3H5c-1.1 0-2 .9-2 2v14c0 1.1.9 2 2 2h14c1.1 0 2-.9 2-2V5c0-1.1-.9-2-2-2zM9 17H7v-7h2v7zm4 0h-2V7h2v10zm4 0h-2v-4h2v4z\"/>\n",
              "    </g>\n",
              "</svg>\n",
              "      </button>\n",
              "\n",
              "<style>\n",
              "  .colab-df-quickchart {\n",
              "      --bg-color: #E8F0FE;\n",
              "      --fill-color: #1967D2;\n",
              "      --hover-bg-color: #E2EBFA;\n",
              "      --hover-fill-color: #174EA6;\n",
              "      --disabled-fill-color: #AAA;\n",
              "      --disabled-bg-color: #DDD;\n",
              "  }\n",
              "\n",
              "  [theme=dark] .colab-df-quickchart {\n",
              "      --bg-color: #3B4455;\n",
              "      --fill-color: #D2E3FC;\n",
              "      --hover-bg-color: #434B5C;\n",
              "      --hover-fill-color: #FFFFFF;\n",
              "      --disabled-bg-color: #3B4455;\n",
              "      --disabled-fill-color: #666;\n",
              "  }\n",
              "\n",
              "  .colab-df-quickchart {\n",
              "    background-color: var(--bg-color);\n",
              "    border: none;\n",
              "    border-radius: 50%;\n",
              "    cursor: pointer;\n",
              "    display: none;\n",
              "    fill: var(--fill-color);\n",
              "    height: 32px;\n",
              "    padding: 0;\n",
              "    width: 32px;\n",
              "  }\n",
              "\n",
              "  .colab-df-quickchart:hover {\n",
              "    background-color: var(--hover-bg-color);\n",
              "    box-shadow: 0 1px 2px rgba(60, 64, 67, 0.3), 0 1px 3px 1px rgba(60, 64, 67, 0.15);\n",
              "    fill: var(--button-hover-fill-color);\n",
              "  }\n",
              "\n",
              "  .colab-df-quickchart-complete:disabled,\n",
              "  .colab-df-quickchart-complete:disabled:hover {\n",
              "    background-color: var(--disabled-bg-color);\n",
              "    fill: var(--disabled-fill-color);\n",
              "    box-shadow: none;\n",
              "  }\n",
              "\n",
              "  .colab-df-spinner {\n",
              "    border: 2px solid var(--fill-color);\n",
              "    border-color: transparent;\n",
              "    border-bottom-color: var(--fill-color);\n",
              "    animation:\n",
              "      spin 1s steps(1) infinite;\n",
              "  }\n",
              "\n",
              "  @keyframes spin {\n",
              "    0% {\n",
              "      border-color: transparent;\n",
              "      border-bottom-color: var(--fill-color);\n",
              "      border-left-color: var(--fill-color);\n",
              "    }\n",
              "    20% {\n",
              "      border-color: transparent;\n",
              "      border-left-color: var(--fill-color);\n",
              "      border-top-color: var(--fill-color);\n",
              "    }\n",
              "    30% {\n",
              "      border-color: transparent;\n",
              "      border-left-color: var(--fill-color);\n",
              "      border-top-color: var(--fill-color);\n",
              "      border-right-color: var(--fill-color);\n",
              "    }\n",
              "    40% {\n",
              "      border-color: transparent;\n",
              "      border-right-color: var(--fill-color);\n",
              "      border-top-color: var(--fill-color);\n",
              "    }\n",
              "    60% {\n",
              "      border-color: transparent;\n",
              "      border-right-color: var(--fill-color);\n",
              "    }\n",
              "    80% {\n",
              "      border-color: transparent;\n",
              "      border-right-color: var(--fill-color);\n",
              "      border-bottom-color: var(--fill-color);\n",
              "    }\n",
              "    90% {\n",
              "      border-color: transparent;\n",
              "      border-bottom-color: var(--fill-color);\n",
              "    }\n",
              "  }\n",
              "</style>\n",
              "\n",
              "      <script>\n",
              "        async function quickchart(key) {\n",
              "          const quickchartButtonEl =\n",
              "            document.querySelector('#' + key + ' button');\n",
              "          quickchartButtonEl.disabled = true;  // To prevent multiple clicks.\n",
              "          quickchartButtonEl.classList.add('colab-df-spinner');\n",
              "          try {\n",
              "            const charts = await google.colab.kernel.invokeFunction(\n",
              "                'suggestCharts', [key], {});\n",
              "          } catch (error) {\n",
              "            console.error('Error during call to suggestCharts:', error);\n",
              "          }\n",
              "          quickchartButtonEl.classList.remove('colab-df-spinner');\n",
              "          quickchartButtonEl.classList.add('colab-df-quickchart-complete');\n",
              "        }\n",
              "        (() => {\n",
              "          let quickchartButtonEl =\n",
              "            document.querySelector('#df-b0d060da-fba4-41ef-9f90-d5ec05056e13 button');\n",
              "          quickchartButtonEl.style.display =\n",
              "            google.colab.kernel.accessAllowed ? 'block' : 'none';\n",
              "        })();\n",
              "      </script>\n",
              "    </div>\n",
              "\n",
              "  <div id=\"id_fe2791ee-e864-404e-b4b5-7fc53877d1d1\">\n",
              "    <style>\n",
              "      .colab-df-generate {\n",
              "        background-color: #E8F0FE;\n",
              "        border: none;\n",
              "        border-radius: 50%;\n",
              "        cursor: pointer;\n",
              "        display: none;\n",
              "        fill: #1967D2;\n",
              "        height: 32px;\n",
              "        padding: 0 0 0 0;\n",
              "        width: 32px;\n",
              "      }\n",
              "\n",
              "      .colab-df-generate:hover {\n",
              "        background-color: #E2EBFA;\n",
              "        box-shadow: 0px 1px 2px rgba(60, 64, 67, 0.3), 0px 1px 3px 1px rgba(60, 64, 67, 0.15);\n",
              "        fill: #174EA6;\n",
              "      }\n",
              "\n",
              "      [theme=dark] .colab-df-generate {\n",
              "        background-color: #3B4455;\n",
              "        fill: #D2E3FC;\n",
              "      }\n",
              "\n",
              "      [theme=dark] .colab-df-generate:hover {\n",
              "        background-color: #434B5C;\n",
              "        box-shadow: 0px 1px 3px 1px rgba(0, 0, 0, 0.15);\n",
              "        filter: drop-shadow(0px 1px 2px rgba(0, 0, 0, 0.3));\n",
              "        fill: #FFFFFF;\n",
              "      }\n",
              "    </style>\n",
              "    <button class=\"colab-df-generate\" onclick=\"generateWithVariable('df')\"\n",
              "            title=\"Generate code using this dataframe.\"\n",
              "            style=\"display:none;\">\n",
              "\n",
              "  <svg xmlns=\"http://www.w3.org/2000/svg\" height=\"24px\"viewBox=\"0 0 24 24\"\n",
              "       width=\"24px\">\n",
              "    <path d=\"M7,19H8.4L18.45,9,17,7.55,7,17.6ZM5,21V16.75L18.45,3.32a2,2,0,0,1,2.83,0l1.4,1.43a1.91,1.91,0,0,1,.58,1.4,1.91,1.91,0,0,1-.58,1.4L9.25,21ZM18.45,9,17,7.55Zm-12,3A5.31,5.31,0,0,0,4.9,8.1,5.31,5.31,0,0,0,1,6.5,5.31,5.31,0,0,0,4.9,4.9,5.31,5.31,0,0,0,6.5,1,5.31,5.31,0,0,0,8.1,4.9,5.31,5.31,0,0,0,12,6.5,5.46,5.46,0,0,0,6.5,12Z\"/>\n",
              "  </svg>\n",
              "    </button>\n",
              "    <script>\n",
              "      (() => {\n",
              "      const buttonEl =\n",
              "        document.querySelector('#id_fe2791ee-e864-404e-b4b5-7fc53877d1d1 button.colab-df-generate');\n",
              "      buttonEl.style.display =\n",
              "        google.colab.kernel.accessAllowed ? 'block' : 'none';\n",
              "\n",
              "      buttonEl.onclick = () => {\n",
              "        google.colab.notebook.generateWithVariable('df');\n",
              "      }\n",
              "      })();\n",
              "    </script>\n",
              "  </div>\n",
              "\n",
              "    </div>\n",
              "  </div>\n"
            ],
            "application/vnd.google.colaboratory.intrinsic+json": {
              "type": "dataframe",
              "variable_name": "df",
              "summary": "{\n  \"name\": \"df\",\n  \"rows\": 101,\n  \"fields\": [\n    {\n      \"column\": \"Date\",\n      \"properties\": {\n        \"dtype\": \"object\",\n        \"num_unique_values\": 101,\n        \"samples\": [\n          \"2020-05-30\",\n          \"2018-06-04\",\n          \"2019-01-11\"\n        ],\n        \"semantic_type\": \"\",\n        \"description\": \"\"\n      }\n    },\n    {\n      \"column\": \"Time (UTC)\",\n      \"properties\": {\n        \"dtype\": \"object\",\n        \"num_unique_values\": 97,\n        \"samples\": [\n          \"13:51:00\",\n          \"12:37:00\",\n          \"0:27:00\"\n        ],\n        \"semantic_type\": \"\",\n        \"description\": \"\"\n      }\n    },\n    {\n      \"column\": \"Booster_Version\",\n      \"properties\": {\n        \"dtype\": \"string\",\n        \"num_unique_values\": 97,\n        \"samples\": [\n          \"F9 B5 B1049.2\",\n          \"F9 FT  B1035.2\",\n          \"F9 B5B1061.1 \"\n        ],\n        \"semantic_type\": \"\",\n        \"description\": \"\"\n      }\n    },\n    {\n      \"column\": \"Launch_Site\",\n      \"properties\": {\n        \"dtype\": \"category\",\n        \"num_unique_values\": 4,\n        \"samples\": [\n          \"VAFB SLC-4E\",\n          \"CCAFS SLC-40\",\n          \"CCAFS LC-40\"\n        ],\n        \"semantic_type\": \"\",\n        \"description\": \"\"\n      }\n    },\n    {\n      \"column\": \"Payload\",\n      \"properties\": {\n        \"dtype\": \"string\",\n        \"num_unique_values\": 101,\n        \"samples\": [\n          \"Crew Dragon Demo-2, Starlink 7 v1.0 \",\n          \"SES-12\",\n          \"Iridium NEXT-8\"\n        ],\n        \"semantic_type\": \"\",\n        \"description\": \"\"\n      }\n    },\n    {\n      \"column\": \"PAYLOAD_MASS__KG_\",\n      \"properties\": {\n        \"dtype\": \"number\",\n        \"std\": 4900,\n        \"min\": 0,\n        \"max\": 15600,\n        \"num_unique_values\": 78,\n        \"samples\": [\n          6761,\n          0,\n          3310\n        ],\n        \"semantic_type\": \"\",\n        \"description\": \"\"\n      }\n    },\n    {\n      \"column\": \"Orbit\",\n      \"properties\": {\n        \"dtype\": \"category\",\n        \"num_unique_values\": 8,\n        \"samples\": [\n          \"LEO (ISS)\",\n          \"SSO\",\n          \"LEO\"\n        ],\n        \"semantic_type\": \"\",\n        \"description\": \"\"\n      }\n    },\n    {\n      \"column\": \"Customer\",\n      \"properties\": {\n        \"dtype\": \"string\",\n        \"num_unique_values\": 53,\n        \"samples\": [\n          \"Intelsat\",\n          \"Sky Perfect JSAT, Kacific 1\",\n          \"SpaceX, Spaceflight Industries (BlackSky), Planet Labs\"\n        ],\n        \"semantic_type\": \"\",\n        \"description\": \"\"\n      }\n    },\n    {\n      \"column\": \"Mission_Outcome\",\n      \"properties\": {\n        \"dtype\": \"category\",\n        \"num_unique_values\": 4,\n        \"samples\": [\n          \"Failure (in flight)\",\n          \"Success \",\n          \"Success\"\n        ],\n        \"semantic_type\": \"\",\n        \"description\": \"\"\n      }\n    },\n    {\n      \"column\": \"Landing_Outcome\",\n      \"properties\": {\n        \"dtype\": \"category\",\n        \"num_unique_values\": 11,\n        \"samples\": [\n          \"Precluded (drone ship)\",\n          \"Failure (parachute)\",\n          \"Failure\"\n        ],\n        \"semantic_type\": \"\",\n        \"description\": \"\"\n      }\n    }\n  ]\n}"
            }
          },
          "metadata": {},
          "execution_count": 7
        }
      ]
    },
    {
      "cell_type": "code",
      "source": [
        "#DROP BLANK ROWS FROM THE TABLE\n",
        "\n",
        "%sql DROP TABLE IF EXISTS SPACEXTABLE;"
      ],
      "metadata": {
        "colab": {
          "base_uri": "https://localhost:8080/"
        },
        "id": "DIetHphKDFuB",
        "outputId": "e98949af-1750-4a46-b958-681c32d644f4"
      },
      "execution_count": null,
      "outputs": [
        {
          "output_type": "stream",
          "name": "stdout",
          "text": [
            " * sqlite:///my_data1.db\n",
            "Done.\n"
          ]
        },
        {
          "output_type": "execute_result",
          "data": {
            "text/plain": [
              "[]"
            ]
          },
          "metadata": {},
          "execution_count": 8
        }
      ]
    },
    {
      "cell_type": "code",
      "source": [
        "%sql create table SPACEXTABLE as select * from SPACEXTBL where Date is not null"
      ],
      "metadata": {
        "colab": {
          "base_uri": "https://localhost:8080/"
        },
        "id": "qIls1MrsDLGK",
        "outputId": "b73fe738-0870-483d-e812-bbc1aee098a0"
      },
      "execution_count": null,
      "outputs": [
        {
          "output_type": "stream",
          "name": "stdout",
          "text": [
            " * sqlite:///my_data1.db\n",
            "Done.\n"
          ]
        },
        {
          "output_type": "execute_result",
          "data": {
            "text/plain": [
              "[]"
            ]
          },
          "metadata": {},
          "execution_count": 11
        }
      ]
    },
    {
      "cell_type": "markdown",
      "source": [
        "# Task 1: Display the names of the unique launch sites in the space mission"
      ],
      "metadata": {
        "id": "OrvCWOFbDz1e"
      }
    },
    {
      "cell_type": "code",
      "source": [
        "%sql SELECT DISTINCT Launch_Site FROM SPACEXTABLE;"
      ],
      "metadata": {
        "colab": {
          "base_uri": "https://localhost:8080/",
          "height": 161
        },
        "id": "Dg-APaWqDaIT",
        "outputId": "984a43ef-c759-4ae6-e0a3-b0b6fcd2300c"
      },
      "execution_count": null,
      "outputs": [
        {
          "output_type": "stream",
          "name": "stdout",
          "text": [
            " * sqlite:///my_data1.db\n",
            "Done.\n"
          ]
        },
        {
          "output_type": "execute_result",
          "data": {
            "text/plain": [
              "[('CCAFS LC-40',), ('VAFB SLC-4E',), ('KSC LC-39A',), ('CCAFS SLC-40',)]"
            ],
            "text/html": [
              "<table>\n",
              "    <thead>\n",
              "        <tr>\n",
              "            <th>Launch_Site</th>\n",
              "        </tr>\n",
              "    </thead>\n",
              "    <tbody>\n",
              "        <tr>\n",
              "            <td>CCAFS LC-40</td>\n",
              "        </tr>\n",
              "        <tr>\n",
              "            <td>VAFB SLC-4E</td>\n",
              "        </tr>\n",
              "        <tr>\n",
              "            <td>KSC LC-39A</td>\n",
              "        </tr>\n",
              "        <tr>\n",
              "            <td>CCAFS SLC-40</td>\n",
              "        </tr>\n",
              "    </tbody>\n",
              "</table>"
            ]
          },
          "metadata": {},
          "execution_count": 16
        }
      ]
    },
    {
      "cell_type": "markdown",
      "source": [
        "\n",
        "# Task 2: Display 5 records where launch sites begin with the string 'CCA'"
      ],
      "metadata": {
        "id": "OParZ1RQD_4y"
      }
    },
    {
      "cell_type": "code",
      "source": [
        "%sql SELECT * FROM SPACEXTABLE WHERE Launch_Site LIKE 'CCA%' LIMIT 5;"
      ],
      "metadata": {
        "colab": {
          "base_uri": "https://localhost:8080/",
          "height": 182
        },
        "id": "i0Du4pdjD9uI",
        "outputId": "e5f7cee9-9eb5-4e93-de5d-c91c5c8e9cf3"
      },
      "execution_count": null,
      "outputs": [
        {
          "output_type": "stream",
          "name": "stdout",
          "text": [
            " * sqlite:///my_data1.db\n",
            "Done.\n"
          ]
        },
        {
          "output_type": "execute_result",
          "data": {
            "text/plain": [
              "[('2010-06-04', '18:45:00', 'F9 v1.0  B0003', 'CCAFS LC-40', 'Dragon Spacecraft Qualification Unit', 0, 'LEO', 'SpaceX', 'Success', 'Failure (parachute)'),\n",
              " ('2010-12-08', '15:43:00', 'F9 v1.0  B0004', 'CCAFS LC-40', 'Dragon demo flight C1, two CubeSats, barrel of Brouere cheese', 0, 'LEO (ISS)', 'NASA (COTS) NRO', 'Success', 'Failure (parachute)'),\n",
              " ('2012-05-22', '7:44:00', 'F9 v1.0  B0005', 'CCAFS LC-40', 'Dragon demo flight C2', 525, 'LEO (ISS)', 'NASA (COTS)', 'Success', 'No attempt'),\n",
              " ('2012-10-08', '0:35:00', 'F9 v1.0  B0006', 'CCAFS LC-40', 'SpaceX CRS-1', 500, 'LEO (ISS)', 'NASA (CRS)', 'Success', 'No attempt'),\n",
              " ('2013-03-01', '15:10:00', 'F9 v1.0  B0007', 'CCAFS LC-40', 'SpaceX CRS-2', 677, 'LEO (ISS)', 'NASA (CRS)', 'Success', 'No attempt')]"
            ],
            "text/html": [
              "<table>\n",
              "    <thead>\n",
              "        <tr>\n",
              "            <th>Date</th>\n",
              "            <th>Time (UTC)</th>\n",
              "            <th>Booster_Version</th>\n",
              "            <th>Launch_Site</th>\n",
              "            <th>Payload</th>\n",
              "            <th>PAYLOAD_MASS__KG_</th>\n",
              "            <th>Orbit</th>\n",
              "            <th>Customer</th>\n",
              "            <th>Mission_Outcome</th>\n",
              "            <th>Landing_Outcome</th>\n",
              "        </tr>\n",
              "    </thead>\n",
              "    <tbody>\n",
              "        <tr>\n",
              "            <td>2010-06-04</td>\n",
              "            <td>18:45:00</td>\n",
              "            <td>F9 v1.0  B0003</td>\n",
              "            <td>CCAFS LC-40</td>\n",
              "            <td>Dragon Spacecraft Qualification Unit</td>\n",
              "            <td>0</td>\n",
              "            <td>LEO</td>\n",
              "            <td>SpaceX</td>\n",
              "            <td>Success</td>\n",
              "            <td>Failure (parachute)</td>\n",
              "        </tr>\n",
              "        <tr>\n",
              "            <td>2010-12-08</td>\n",
              "            <td>15:43:00</td>\n",
              "            <td>F9 v1.0  B0004</td>\n",
              "            <td>CCAFS LC-40</td>\n",
              "            <td>Dragon demo flight C1, two CubeSats, barrel of Brouere cheese</td>\n",
              "            <td>0</td>\n",
              "            <td>LEO (ISS)</td>\n",
              "            <td>NASA (COTS) NRO</td>\n",
              "            <td>Success</td>\n",
              "            <td>Failure (parachute)</td>\n",
              "        </tr>\n",
              "        <tr>\n",
              "            <td>2012-05-22</td>\n",
              "            <td>7:44:00</td>\n",
              "            <td>F9 v1.0  B0005</td>\n",
              "            <td>CCAFS LC-40</td>\n",
              "            <td>Dragon demo flight C2</td>\n",
              "            <td>525</td>\n",
              "            <td>LEO (ISS)</td>\n",
              "            <td>NASA (COTS)</td>\n",
              "            <td>Success</td>\n",
              "            <td>No attempt</td>\n",
              "        </tr>\n",
              "        <tr>\n",
              "            <td>2012-10-08</td>\n",
              "            <td>0:35:00</td>\n",
              "            <td>F9 v1.0  B0006</td>\n",
              "            <td>CCAFS LC-40</td>\n",
              "            <td>SpaceX CRS-1</td>\n",
              "            <td>500</td>\n",
              "            <td>LEO (ISS)</td>\n",
              "            <td>NASA (CRS)</td>\n",
              "            <td>Success</td>\n",
              "            <td>No attempt</td>\n",
              "        </tr>\n",
              "        <tr>\n",
              "            <td>2013-03-01</td>\n",
              "            <td>15:10:00</td>\n",
              "            <td>F9 v1.0  B0007</td>\n",
              "            <td>CCAFS LC-40</td>\n",
              "            <td>SpaceX CRS-2</td>\n",
              "            <td>677</td>\n",
              "            <td>LEO (ISS)</td>\n",
              "            <td>NASA (CRS)</td>\n",
              "            <td>Success</td>\n",
              "            <td>No attempt</td>\n",
              "        </tr>\n",
              "    </tbody>\n",
              "</table>"
            ]
          },
          "metadata": {},
          "execution_count": 22
        }
      ]
    },
    {
      "cell_type": "markdown",
      "source": [
        "# Task 3: Display the total payload mass carried by boosters launched by NASA (CRS)"
      ],
      "metadata": {
        "id": "uXfOJnmwHuNN"
      }
    },
    {
      "cell_type": "code",
      "source": [
        "%sql SELECT SUM(PAYLOAD_MASS__KG_) FROM SPACEXTABLE WHERE Customer = 'NASA (CRS)';"
      ],
      "metadata": {
        "colab": {
          "base_uri": "https://localhost:8080/",
          "height": 96
        },
        "id": "VGIuYbBiHbnD",
        "outputId": "e55fe359-12ba-421a-8b76-9ccecf9bf751"
      },
      "execution_count": null,
      "outputs": [
        {
          "output_type": "stream",
          "name": "stdout",
          "text": [
            " * sqlite:///my_data1.db\n",
            "Done.\n"
          ]
        },
        {
          "output_type": "execute_result",
          "data": {
            "text/plain": [
              "[(45596,)]"
            ],
            "text/html": [
              "<table>\n",
              "    <thead>\n",
              "        <tr>\n",
              "            <th>SUM(PAYLOAD_MASS__KG_)</th>\n",
              "        </tr>\n",
              "    </thead>\n",
              "    <tbody>\n",
              "        <tr>\n",
              "            <td>45596</td>\n",
              "        </tr>\n",
              "    </tbody>\n",
              "</table>"
            ]
          },
          "metadata": {},
          "execution_count": 33
        }
      ]
    },
    {
      "cell_type": "markdown",
      "source": [
        "# Task 4: Display average payload mass carried by booster version F9 v1.1"
      ],
      "metadata": {
        "id": "PWa5GvJsI8Dh"
      }
    },
    {
      "cell_type": "code",
      "source": [
        "%sql SELECT AVG(PAYLOAD_MASS__KG_) FROM SPACEXTABLE WHERE Booster_Version = 'F9 v1.1';"
      ],
      "metadata": {
        "colab": {
          "base_uri": "https://localhost:8080/",
          "height": 96
        },
        "id": "XrdzlRG3I3z9",
        "outputId": "5323e00a-7810-4218-e1bf-37a4935a46f1"
      },
      "execution_count": null,
      "outputs": [
        {
          "output_type": "stream",
          "name": "stdout",
          "text": [
            " * sqlite:///my_data1.db\n",
            "Done.\n"
          ]
        },
        {
          "output_type": "execute_result",
          "data": {
            "text/plain": [
              "[(2928.4,)]"
            ],
            "text/html": [
              "<table>\n",
              "    <thead>\n",
              "        <tr>\n",
              "            <th>AVG(PAYLOAD_MASS__KG_)</th>\n",
              "        </tr>\n",
              "    </thead>\n",
              "    <tbody>\n",
              "        <tr>\n",
              "            <td>2928.4</td>\n",
              "        </tr>\n",
              "    </tbody>\n",
              "</table>"
            ]
          },
          "metadata": {},
          "execution_count": 41
        }
      ]
    },
    {
      "cell_type": "markdown",
      "source": [
        "# Task 5: List the date when the first succesful landing outcome in ground pad was acheived.\n"
      ],
      "metadata": {
        "id": "CFEqaaKnJ6IH"
      }
    },
    {
      "cell_type": "code",
      "source": [
        "%sql SELECT MIN(Date) FROM SPACEXTABLE WHERE Landing_Outcome = 'Success (ground pad)';"
      ],
      "metadata": {
        "colab": {
          "base_uri": "https://localhost:8080/",
          "height": 96
        },
        "id": "B-rlufrkJKXJ",
        "outputId": "70a43959-debd-491b-9e5d-a599bed6e6f2"
      },
      "execution_count": null,
      "outputs": [
        {
          "output_type": "stream",
          "name": "stdout",
          "text": [
            " * sqlite:///my_data1.db\n",
            "Done.\n"
          ]
        },
        {
          "output_type": "execute_result",
          "data": {
            "text/plain": [
              "[('2015-12-22',)]"
            ],
            "text/html": [
              "<table>\n",
              "    <thead>\n",
              "        <tr>\n",
              "            <th>MIN(Date)</th>\n",
              "        </tr>\n",
              "    </thead>\n",
              "    <tbody>\n",
              "        <tr>\n",
              "            <td>2015-12-22</td>\n",
              "        </tr>\n",
              "    </tbody>\n",
              "</table>"
            ]
          },
          "metadata": {},
          "execution_count": 42
        }
      ]
    },
    {
      "cell_type": "markdown",
      "source": [
        "#Task 6: List the names of the boosters which have success in drone ship and have payload mass greater than 4000 but less than 6000"
      ],
      "metadata": {
        "id": "VlopPtOwKqh_"
      }
    },
    {
      "cell_type": "code",
      "source": [
        "%sql SELECT Booster_Version FROM SPACEXTABLE WHERE Landing_Outcome = 'Success (drone ship)'  AND PAYLOAD_MASS__KG_ BETWEEN 4000 AND 6000\n"
      ],
      "metadata": {
        "colab": {
          "base_uri": "https://localhost:8080/",
          "height": 161
        },
        "id": "o1CZBf2UK3eN",
        "outputId": "575ed181-de94-40c7-de8b-e07207e62e3a"
      },
      "execution_count": null,
      "outputs": [
        {
          "output_type": "stream",
          "name": "stdout",
          "text": [
            " * sqlite:///my_data1.db\n",
            "Done.\n"
          ]
        },
        {
          "output_type": "execute_result",
          "data": {
            "text/plain": [
              "[('F9 FT B1022',), ('F9 FT B1026',), ('F9 FT  B1021.2',), ('F9 FT  B1031.2',)]"
            ],
            "text/html": [
              "<table>\n",
              "    <thead>\n",
              "        <tr>\n",
              "            <th>Booster_Version</th>\n",
              "        </tr>\n",
              "    </thead>\n",
              "    <tbody>\n",
              "        <tr>\n",
              "            <td>F9 FT B1022</td>\n",
              "        </tr>\n",
              "        <tr>\n",
              "            <td>F9 FT B1026</td>\n",
              "        </tr>\n",
              "        <tr>\n",
              "            <td>F9 FT  B1021.2</td>\n",
              "        </tr>\n",
              "        <tr>\n",
              "            <td>F9 FT  B1031.2</td>\n",
              "        </tr>\n",
              "    </tbody>\n",
              "</table>"
            ]
          },
          "metadata": {},
          "execution_count": 47
        }
      ]
    },
    {
      "cell_type": "markdown",
      "source": [
        "# Task 7: List the total number of successful and failure mission outcomes"
      ],
      "metadata": {
        "id": "Vf06SixGLiCO"
      }
    },
    {
      "cell_type": "code",
      "source": [
        "%sql SELECT COUNT(*) FROM SPACEXTABLE WHERE MISSION_OUTCOME LIKE 'Success%' OR MISSION_OUTCOME LIKE 'Failure%';"
      ],
      "metadata": {
        "colab": {
          "base_uri": "https://localhost:8080/",
          "height": 96
        },
        "id": "u2ANBtTSLe4P",
        "outputId": "95a8f7ab-3870-4e57-8a55-bf0683e5b709"
      },
      "execution_count": null,
      "outputs": [
        {
          "output_type": "stream",
          "name": "stdout",
          "text": [
            " * sqlite:///my_data1.db\n",
            "Done.\n"
          ]
        },
        {
          "output_type": "execute_result",
          "data": {
            "text/plain": [
              "[(101,)]"
            ],
            "text/html": [
              "<table>\n",
              "    <thead>\n",
              "        <tr>\n",
              "            <th>COUNT(*)</th>\n",
              "        </tr>\n",
              "    </thead>\n",
              "    <tbody>\n",
              "        <tr>\n",
              "            <td>101</td>\n",
              "        </tr>\n",
              "    </tbody>\n",
              "</table>"
            ]
          },
          "metadata": {},
          "execution_count": 48
        }
      ]
    },
    {
      "cell_type": "markdown",
      "source": [
        "# Task 8:  List all the booster_versions that have carried the maximum payload mass, using a subquery with a suitable aggregate function."
      ],
      "metadata": {
        "id": "Wj_sLnZjNnHp"
      }
    },
    {
      "cell_type": "code",
      "source": [
        "%sql SELECT DISTINCT BOOSTER_VERSION FROM SPACEXTABLE WHERE PAYLOAD_MASS__KG_=(SELECT MAX(PAYLOAD_MASS__KG_) FROM SPACEXTABLE);"
      ],
      "metadata": {
        "colab": {
          "base_uri": "https://localhost:8080/",
          "height": 331
        },
        "id": "MiD_k5dmNmx2",
        "outputId": "3cdf198e-78ef-4e2f-cf91-1332d596c97d"
      },
      "execution_count": null,
      "outputs": [
        {
          "output_type": "stream",
          "name": "stdout",
          "text": [
            " * sqlite:///my_data1.db\n",
            "Done.\n"
          ]
        },
        {
          "output_type": "execute_result",
          "data": {
            "text/plain": [
              "[('F9 B5 B1048.4',),\n",
              " ('F9 B5 B1049.4',),\n",
              " ('F9 B5 B1051.3',),\n",
              " ('F9 B5 B1056.4',),\n",
              " ('F9 B5 B1048.5',),\n",
              " ('F9 B5 B1051.4',),\n",
              " ('F9 B5 B1049.5',),\n",
              " ('F9 B5 B1060.2 ',),\n",
              " ('F9 B5 B1058.3 ',),\n",
              " ('F9 B5 B1051.6',),\n",
              " ('F9 B5 B1060.3',),\n",
              " ('F9 B5 B1049.7 ',)]"
            ],
            "text/html": [
              "<table>\n",
              "    <thead>\n",
              "        <tr>\n",
              "            <th>Booster_Version</th>\n",
              "        </tr>\n",
              "    </thead>\n",
              "    <tbody>\n",
              "        <tr>\n",
              "            <td>F9 B5 B1048.4</td>\n",
              "        </tr>\n",
              "        <tr>\n",
              "            <td>F9 B5 B1049.4</td>\n",
              "        </tr>\n",
              "        <tr>\n",
              "            <td>F9 B5 B1051.3</td>\n",
              "        </tr>\n",
              "        <tr>\n",
              "            <td>F9 B5 B1056.4</td>\n",
              "        </tr>\n",
              "        <tr>\n",
              "            <td>F9 B5 B1048.5</td>\n",
              "        </tr>\n",
              "        <tr>\n",
              "            <td>F9 B5 B1051.4</td>\n",
              "        </tr>\n",
              "        <tr>\n",
              "            <td>F9 B5 B1049.5</td>\n",
              "        </tr>\n",
              "        <tr>\n",
              "            <td>F9 B5 B1060.2 </td>\n",
              "        </tr>\n",
              "        <tr>\n",
              "            <td>F9 B5 B1058.3 </td>\n",
              "        </tr>\n",
              "        <tr>\n",
              "            <td>F9 B5 B1051.6</td>\n",
              "        </tr>\n",
              "        <tr>\n",
              "            <td>F9 B5 B1060.3</td>\n",
              "        </tr>\n",
              "        <tr>\n",
              "            <td>F9 B5 B1049.7 </td>\n",
              "        </tr>\n",
              "    </tbody>\n",
              "</table>"
            ]
          },
          "metadata": {},
          "execution_count": 54
        }
      ]
    },
    {
      "cell_type": "markdown",
      "source": [
        "# Task 9: List the records which will display the month names, failure landing_outcomes in drone ship ,booster versions, launch_site for the months in year 2015.\n",
        "\n",
        "**Note: SQLLite does not support monthnames. So you need to use  substr(Date, 6,2) as month to get the months and substr(Date,0,5)='2015' for year.**"
      ],
      "metadata": {
        "id": "f4iaFDt5OG9_"
      }
    },
    {
      "cell_type": "code",
      "source": [
        "%sql SELECT * FROM SPACEXTABLE WHERE Landing_Outcome = 'Failure (drone ship)' AND Date LIKE '2015%';"
      ],
      "metadata": {
        "colab": {
          "base_uri": "https://localhost:8080/",
          "height": 118
        },
        "id": "goGooc5jOGNe",
        "outputId": "5f631d3f-65b4-4990-afd9-f250476f0f73"
      },
      "execution_count": null,
      "outputs": [
        {
          "output_type": "stream",
          "name": "stdout",
          "text": [
            " * sqlite:///my_data1.db\n",
            "Done.\n"
          ]
        },
        {
          "output_type": "execute_result",
          "data": {
            "text/plain": [
              "[('2015-01-10', '9:47:00', 'F9 v1.1 B1012', 'CCAFS LC-40', 'SpaceX CRS-5', 2395, 'LEO (ISS)', 'NASA (CRS)', 'Success', 'Failure (drone ship)'),\n",
              " ('2015-04-14', '20:10:00', 'F9 v1.1 B1015', 'CCAFS LC-40', 'SpaceX CRS-6', 1898, 'LEO (ISS)', 'NASA (CRS)', 'Success', 'Failure (drone ship)')]"
            ],
            "text/html": [
              "<table>\n",
              "    <thead>\n",
              "        <tr>\n",
              "            <th>Date</th>\n",
              "            <th>Time (UTC)</th>\n",
              "            <th>Booster_Version</th>\n",
              "            <th>Launch_Site</th>\n",
              "            <th>Payload</th>\n",
              "            <th>PAYLOAD_MASS__KG_</th>\n",
              "            <th>Orbit</th>\n",
              "            <th>Customer</th>\n",
              "            <th>Mission_Outcome</th>\n",
              "            <th>Landing_Outcome</th>\n",
              "        </tr>\n",
              "    </thead>\n",
              "    <tbody>\n",
              "        <tr>\n",
              "            <td>2015-01-10</td>\n",
              "            <td>9:47:00</td>\n",
              "            <td>F9 v1.1 B1012</td>\n",
              "            <td>CCAFS LC-40</td>\n",
              "            <td>SpaceX CRS-5</td>\n",
              "            <td>2395</td>\n",
              "            <td>LEO (ISS)</td>\n",
              "            <td>NASA (CRS)</td>\n",
              "            <td>Success</td>\n",
              "            <td>Failure (drone ship)</td>\n",
              "        </tr>\n",
              "        <tr>\n",
              "            <td>2015-04-14</td>\n",
              "            <td>20:10:00</td>\n",
              "            <td>F9 v1.1 B1015</td>\n",
              "            <td>CCAFS LC-40</td>\n",
              "            <td>SpaceX CRS-6</td>\n",
              "            <td>1898</td>\n",
              "            <td>LEO (ISS)</td>\n",
              "            <td>NASA (CRS)</td>\n",
              "            <td>Success</td>\n",
              "            <td>Failure (drone ship)</td>\n",
              "        </tr>\n",
              "    </tbody>\n",
              "</table>"
            ]
          },
          "metadata": {},
          "execution_count": 55
        }
      ]
    },
    {
      "cell_type": "code",
      "source": [
        "%%sql\n",
        "SELECT\n",
        "    substr(Date, 6, 2) AS Month, -- This extracts the month (assuming Date format is YYYY-MM-DD or similar)\n",
        "    Landing_Outcome,\n",
        "    Booster_Version,\n",
        "    Launch_Site\n",
        "FROM\n",
        "    SPACEXTABLE\n",
        "WHERE\n",
        "    substr(Date, 0, 5) = '2015' AND -- Filter for year 2015\n",
        "    Landing_Outcome LIKE '%Failure%' AND -- Filter for outcomes containing \"Failure\"\n",
        "    Landing_Outcome LIKE '%drone ship%'; -- Filter for outcomes containing \"drone ship\""
      ],
      "metadata": {
        "colab": {
          "base_uri": "https://localhost:8080/",
          "height": 118
        },
        "id": "h8unY_b9O5mt",
        "outputId": "26018720-8a23-4ebb-be4e-a1129696059a"
      },
      "execution_count": null,
      "outputs": [
        {
          "output_type": "stream",
          "name": "stdout",
          "text": [
            " * sqlite:///my_data1.db\n",
            "Done.\n"
          ]
        },
        {
          "output_type": "execute_result",
          "data": {
            "text/plain": [
              "[('01', 'Failure (drone ship)', 'F9 v1.1 B1012', 'CCAFS LC-40'),\n",
              " ('04', 'Failure (drone ship)', 'F9 v1.1 B1015', 'CCAFS LC-40')]"
            ],
            "text/html": [
              "<table>\n",
              "    <thead>\n",
              "        <tr>\n",
              "            <th>Month</th>\n",
              "            <th>Landing_Outcome</th>\n",
              "            <th>Booster_Version</th>\n",
              "            <th>Launch_Site</th>\n",
              "        </tr>\n",
              "    </thead>\n",
              "    <tbody>\n",
              "        <tr>\n",
              "            <td>01</td>\n",
              "            <td>Failure (drone ship)</td>\n",
              "            <td>F9 v1.1 B1012</td>\n",
              "            <td>CCAFS LC-40</td>\n",
              "        </tr>\n",
              "        <tr>\n",
              "            <td>04</td>\n",
              "            <td>Failure (drone ship)</td>\n",
              "            <td>F9 v1.1 B1015</td>\n",
              "            <td>CCAFS LC-40</td>\n",
              "        </tr>\n",
              "    </tbody>\n",
              "</table>"
            ]
          },
          "metadata": {},
          "execution_count": 56
        }
      ]
    },
    {
      "cell_type": "markdown",
      "source": [
        "# Task 10: Rank the count of landing outcomes (such as Failure (drone ship) or Success (ground pad)) between the date 2010-06-04 and 2017-03-20, in descending order."
      ],
      "metadata": {
        "id": "zFLQ4e40PNrF"
      }
    },
    {
      "cell_type": "code",
      "source": [
        "%sql SELECT Landing_Outcome, COUNT(*) AS Outcome_Count FROM SPACEXTABLE WHERE Date BETWEEN '2010-06-04' AND '2017-03-20' GROUP BY Landing_Outcome ORDER BY Outcome_Count DESC;"
      ],
      "metadata": {
        "colab": {
          "base_uri": "https://localhost:8080/",
          "height": 246
        },
        "id": "vGJrEi5xPLPy",
        "outputId": "8b8b6add-07eb-4649-894f-dc371cebdea6"
      },
      "execution_count": null,
      "outputs": [
        {
          "output_type": "stream",
          "name": "stdout",
          "text": [
            " * sqlite:///my_data1.db\n",
            "Done.\n"
          ]
        },
        {
          "output_type": "execute_result",
          "data": {
            "text/plain": [
              "[('No attempt', 10),\n",
              " ('Success (drone ship)', 5),\n",
              " ('Failure (drone ship)', 5),\n",
              " ('Success (ground pad)', 3),\n",
              " ('Controlled (ocean)', 3),\n",
              " ('Uncontrolled (ocean)', 2),\n",
              " ('Failure (parachute)', 2),\n",
              " ('Precluded (drone ship)', 1)]"
            ],
            "text/html": [
              "<table>\n",
              "    <thead>\n",
              "        <tr>\n",
              "            <th>Landing_Outcome</th>\n",
              "            <th>Outcome_Count</th>\n",
              "        </tr>\n",
              "    </thead>\n",
              "    <tbody>\n",
              "        <tr>\n",
              "            <td>No attempt</td>\n",
              "            <td>10</td>\n",
              "        </tr>\n",
              "        <tr>\n",
              "            <td>Success (drone ship)</td>\n",
              "            <td>5</td>\n",
              "        </tr>\n",
              "        <tr>\n",
              "            <td>Failure (drone ship)</td>\n",
              "            <td>5</td>\n",
              "        </tr>\n",
              "        <tr>\n",
              "            <td>Success (ground pad)</td>\n",
              "            <td>3</td>\n",
              "        </tr>\n",
              "        <tr>\n",
              "            <td>Controlled (ocean)</td>\n",
              "            <td>3</td>\n",
              "        </tr>\n",
              "        <tr>\n",
              "            <td>Uncontrolled (ocean)</td>\n",
              "            <td>2</td>\n",
              "        </tr>\n",
              "        <tr>\n",
              "            <td>Failure (parachute)</td>\n",
              "            <td>2</td>\n",
              "        </tr>\n",
              "        <tr>\n",
              "            <td>Precluded (drone ship)</td>\n",
              "            <td>1</td>\n",
              "        </tr>\n",
              "    </tbody>\n",
              "</table>"
            ]
          },
          "metadata": {},
          "execution_count": 57
        }
      ]
    },
    {
      "cell_type": "code",
      "source": [
        "%sql SELECT DISTINCT Launch_Site FROM SPACEXTABLE;"
      ],
      "metadata": {
        "colab": {
          "base_uri": "https://localhost:8080/",
          "height": 161
        },
        "id": "8RCbR4JBQS_V",
        "outputId": "0bc316ad-9097-4f10-8d1f-da9fa144368f"
      },
      "execution_count": null,
      "outputs": [
        {
          "output_type": "stream",
          "name": "stdout",
          "text": [
            " * sqlite:///my_data1.db\n",
            "Done.\n"
          ]
        },
        {
          "output_type": "execute_result",
          "data": {
            "text/plain": [
              "[('CCAFS LC-40',), ('VAFB SLC-4E',), ('KSC LC-39A',), ('CCAFS SLC-40',)]"
            ],
            "text/html": [
              "<table>\n",
              "    <thead>\n",
              "        <tr>\n",
              "            <th>Launch_Site</th>\n",
              "        </tr>\n",
              "    </thead>\n",
              "    <tbody>\n",
              "        <tr>\n",
              "            <td>CCAFS LC-40</td>\n",
              "        </tr>\n",
              "        <tr>\n",
              "            <td>VAFB SLC-4E</td>\n",
              "        </tr>\n",
              "        <tr>\n",
              "            <td>KSC LC-39A</td>\n",
              "        </tr>\n",
              "        <tr>\n",
              "            <td>CCAFS SLC-40</td>\n",
              "        </tr>\n",
              "    </tbody>\n",
              "</table>"
            ]
          },
          "metadata": {},
          "execution_count": 58
        }
      ]
    }
  ]
}